{
 "cells": [
  {
   "cell_type": "code",
   "execution_count": 2,
   "metadata": {
    "collapsed": false
   },
   "outputs": [],
   "source": [
    "import numpy as np"
   ]
  },
  {
   "cell_type": "code",
   "execution_count": 22,
   "metadata": {
    "collapsed": false
   },
   "outputs": [
    {
     "name": "stdout",
     "output_type": "stream",
     "text": [
      "[18]\n",
      "[10]\n",
      "[11]\n",
      "[14]\n",
      "[19]\n",
      "[15]\n",
      "[14]\n",
      "[10]\n",
      "[10]\n",
      "[10]\n",
      "[19]\n",
      "[19]\n",
      "[13]\n",
      "[19]\n",
      "[18]\n",
      "[14]\n",
      "[14]\n",
      "[17]\n",
      "[12]\n",
      "[18]\n",
      "[12]\n",
      "[15]\n",
      "[13]\n",
      "[10]\n",
      "[13]\n",
      "[19]\n",
      "[14]\n",
      "[19]\n",
      "[10]\n",
      "[12]\n",
      "[20]\n",
      "[13]\n",
      "[15]\n",
      "[13]\n",
      "[16]\n",
      "[20]\n",
      "[10]\n",
      "[10]\n",
      "[20]\n",
      "[12]\n",
      "[20]\n",
      "[12]\n",
      "[13]\n",
      "[12]\n",
      "[10]\n",
      "[12]\n",
      "[20]\n",
      "[18]\n",
      "[20]\n",
      "[14]\n",
      "[11]\n",
      "[13]\n",
      "[15]\n",
      "[14]\n",
      "[15]\n",
      "[13]\n",
      "[10]\n",
      "[18]\n",
      "[20]\n",
      "[15]\n",
      "[18]\n",
      "[16]\n",
      "[12]\n",
      "[15]\n",
      "[15]\n",
      "[20]\n",
      "[12]\n",
      "[18]\n",
      "[10]\n",
      "[15]\n",
      "[15]\n",
      "[10]\n",
      "[18]\n",
      "[10]\n",
      "[11]\n",
      "[12]\n",
      "[12]\n",
      "[14]\n",
      "[13]\n",
      "[17]\n",
      "[15]\n",
      "[15]\n",
      "[10]\n",
      "[18]\n",
      "[15]\n",
      "[20]\n",
      "[16]\n",
      "[18]\n",
      "[10]\n",
      "[10]\n",
      "[13]\n",
      "[17]\n",
      "[15]\n",
      "[20]\n",
      "[18]\n",
      "[14]\n",
      "[10]\n",
      "[13]\n",
      "[18]\n",
      "[10]\n"
     ]
    }
   ],
   "source": [
    "for i in range(100):\n",
    "    x = np.random.randint(low=10,high=21, size=1)\n",
    "    print(x)"
   ]
  },
  {
   "cell_type": "code",
   "execution_count": null,
   "metadata": {
    "collapsed": true
   },
   "outputs": [],
   "source": []
  }
 ],
 "metadata": {
  "anaconda-cloud": {},
  "kernelspec": {
   "display_name": "Python [default]",
   "language": "python",
   "name": "python3"
  },
  "language_info": {
   "codemirror_mode": {
    "name": "ipython",
    "version": 3
   },
   "file_extension": ".py",
   "mimetype": "text/x-python",
   "name": "python",
   "nbconvert_exporter": "python",
   "pygments_lexer": "ipython3",
   "version": "3.5.2"
  }
 },
 "nbformat": 4,
 "nbformat_minor": 1
}
