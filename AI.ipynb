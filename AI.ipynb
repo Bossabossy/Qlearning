{
 "cells": [
  {
   "cell_type": "code",
   "execution_count": 1,
   "metadata": {},
   "outputs": [
    {
     "name": "stderr",
     "output_type": "stream",
     "text": [
      "ERROR:root:Line magic function `%autoreload` not found.\n"
     ]
    }
   ],
   "source": [
    "%matplotlib inline\n",
    "from matplotlib import pyplot as plt\n",
    "import numpy as np\n",
    "\n",
    "from Strawry.env import Env \n",
    "env = Env()"
   ]
  },
  {
   "cell_type": "code",
   "execution_count": 2,
   "metadata": {
    "scrolled": true
   },
   "outputs": [
    {
     "data": {
      "text/plain": [
       "440"
      ]
     },
     "execution_count": 2,
     "metadata": {},
     "output_type": "execute_result"
    }
   ],
   "source": [
    "env.set_target(temp=10,humi=80,co2=350,light=0,watp=0)"
   ]
  },
  {
   "cell_type": "code",
   "execution_count": 34,
   "metadata": {
    "scrolled": true
   },
   "outputs": [
    {
     "name": "stdout",
     "output_type": "stream",
     "text": [
      "Score over time: 81.14\n"
     ]
    },
    {
     "data": {
      "text/plain": [
       "[<matplotlib.lines.Line2D at 0x20e60667a90>]"
      ]
     },
     "execution_count": 34,
     "metadata": {},
     "output_type": "execute_result"
    },
    {
     "data": {
      "image/png": "[encoded data removed]",
      "text/plain": [
       "<matplotlib.figure.Figure at 0x20e60249da0>"
      ]
     },
     "metadata": {},
     "output_type": "display_data"
    }
   ],
   "source": [
    "Q= np.zeros((env.n_state, env.n_action))\n",
    "y = 0.95\n",
    "lr = 0.01\n",
    "\n",
    "num_episodes = 2000\n",
    "\n",
    "\n",
    "rList = []\n",
    "alpha=np.log(0.1)/num_episodes\n",
    "for i in range(num_episodes):\n",
    "    lr= np.exp(alpha*i) #adaptive learning start with exploration\n",
    "    s = env.reset()\n",
    "    rAll = 0\n",
    "    done=False\n",
    "    #The Q-Table learning algorithm\n",
    "    while done==False:\n",
    "        #randomly exploration of precisely choose best action\n",
    "        if np.random.rand() < lr*0.01:\n",
    "            a = np.random.randint(env.n_action)\n",
    "        else:\n",
    "            a = np.argmax(Q[s,:] )\n",
    "        #get new state and reward from environment\n",
    "        s1,reward,done,_ = env.step(a)\n",
    "        #giving panalty to Hole and no move\n",
    "        if done:\n",
    "            r = 1 if reward > 0.0 else -1\n",
    "        else:\n",
    "            r = -0.1\n",
    "        #Update Q-Table with new knowledge\n",
    "        Q[s,a] = Q[s,a] +  lr*(r + y*np.max(Q[s1,:]) - Q[s,a])\n",
    "\n",
    "        rAll += reward\n",
    "        s = s1\n",
    "        if done == True:\n",
    "            break\n",
    "    rList.append(rAll)\n",
    "print (\"Score over time: \" +  str(sum(rList[-100:])/100.0))\n",
    "plt.plot(np.convolve(np.ones(100),rList,\"valid\"))"
   ]
  },
  {
   "cell_type": "code",
   "execution_count": 4,
   "metadata": {},
   "outputs": [
    {
     "name": "stdout",
     "output_type": "stream",
     "text": [
      "60\n"
     ]
    }
   ],
   "source": [
    "print (s\n",
    "       \n",
    "      )"
   ]
  },
  {
   "cell_type": "code",
   "execution_count": null,
   "metadata": {
    "collapsed": true
   },
   "outputs": [],
   "source": []
  },
  {
   "cell_type": "code",
   "execution_count": null,
   "metadata": {
    "collapsed": true
   },
   "outputs": [],
   "source": []
  }
 ],
 "metadata": {
  "kernelspec": {
   "display_name": "Python 3",
   "language": "python",
   "name": "python3"
  },
  "language_info": {
   "codemirror_mode": {
    "name": "ipython",
    "version": 3
   },
   "file_extension": ".py",
   "mimetype": "text/x-python",
   "name": "python",
   "nbconvert_exporter": "python",
   "pygments_lexer": "ipython3",
   "version": "3.6.1"
  }
 },
 "nbformat": 4,
 "nbformat_minor": 2
}
