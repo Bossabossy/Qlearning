{
 "cells": [
  {
   "cell_type": "code",
   "execution_count": 24,
   "metadata": {
    "collapsed": true
   },
   "outputs": [],
   "source": [
    "\n",
    "class Env(object):\n",
    "    \"\"\"\n",
    "        Strawry environment ...\n",
    "    \"\"\"\n",
    "    def cap(self,x, down, up, ninter):\n",
    "        if x<down:\n",
    "            x=down\n",
    "        if up<=x:\n",
    "            x=up-1\n",
    "        step=(up-down)/ninter\n",
    "        #print x\n",
    "        return (x-down)//step\n",
    "\n",
    "    def __init__(self):\n",
    "        self.n_action=16\n",
    "        self.n_state=500        \n",
    "        self.max_step=100\n",
    "        self.reset()\n",
    "\n",
    "    def get_state(self):        \n",
    "        x1=self.cap(self.temp, 10, 25, 5)\n",
    "        x2=self.cap(self.humi, 10, 100, 5)\n",
    "        x3=self.cap(self.co2, 300, 3000, 5)\n",
    "        x4=self.light\n",
    "        x5=self.watp\n",
    "        return x1*5*5*2*2 + x2*5*5*2*2 + x3*2*2 + x4*2 +x5\n",
    "    \n",
    "    def reset(self, temp=25, humi=80, co2=200, light=0, watp=0):        \n",
    "        self.temp=temp\n",
    "        self.humi=humi\n",
    "        self.co2=co2\n",
    "        self.light=light\n",
    "        self.watp=watp\n",
    "        self.done=0\n",
    "        self.n_step=0\n",
    "        return self.get_state()\n",
    "    \n",
    "    def set_target(self, temp=25, humi=80, co2=200, light=0, watp=0):\n",
    "        self.t_temp=temp\n",
    "        self.t_humi=humi\n",
    "        self.t_co2=co2\n",
    "        self.t_light=light\n",
    "        self.t_watp=watp\n",
    "        return self.get_state()\n",
    "    \n",
    "    def get_reward(self):\n",
    "        if self.t_temp-1<self.temp and self.temp<=self.t_temp+1:\n",
    "            if self.t_humi-5<self.humi and self.humi<=self.t_humi+5:\n",
    "                return 1         \n",
    "        return -0.1\n",
    "    \n",
    "    def code2int(self,code):\n",
    "        #(comp,mist,light,watp)\n",
    "        return code[0]*8 + code[1]*4 + code[2]*2 + code[3]\n",
    "    \n",
    "    def int2code(self,a=0):\n",
    "        b=bin(16+a)\n",
    "        return int(b[-4]),int(b[-3]),int(b[-2]),int(b[-1])\n",
    "    \n",
    "    def step(self,a):\n",
    "        self.n_step+=1\n",
    "        comp,mist,light,watp = self.int2code(a)\n",
    "        if comp==1:\n",
    "            self.humi-=5\n",
    "            self.temp-=1\n",
    "        if mist==1:\n",
    "            self.humi+=5\n",
    "        if light==1:\n",
    "            self.humi+=1\n",
    "            self.temp+=1\n",
    "        if watp==1:\n",
    "            self.humi+=1\n",
    "        if self.max_step <= self.n_step:\n",
    "            self.done=1\n",
    "        return self.get_state(), self.get_reward(), self.done, 0\n",
    "    \n",
    "    def render(self):\n",
    "        print( \"step:{} temp:{}, humi:{}, co2:{}, light:{}, watp{}\".format(\n",
    "             self.n_step, self.temp, self.humi, self.co2, self.light, self.watp))"
   ]
  },
  {
   "cell_type": "code",
   "execution_count": 41,
   "metadata": {
    "collapsed": true
   },
   "outputs": [],
   "source": [
    "env = Env()\n",
    "# env.reset()"
   ]
  },
  {
   "cell_type": "code",
   "execution_count": 42,
   "metadata": {
    "collapsed": false
   },
   "outputs": [
    {
     "data": {
      "text/plain": [
       "700"
      ]
     },
     "execution_count": 42,
     "metadata": {},
     "output_type": "execute_result"
    }
   ],
   "source": [
    "env.set_target(temp=10, humi=90, co2=200, light=0, watp=0)"
   ]
  },
  {
   "cell_type": "code",
   "execution_count": 43,
   "metadata": {
    "collapsed": false
   },
   "outputs": [
    {
     "name": "stdout",
     "output_type": "stream",
     "text": [
      "step:0 temp:25, humi:80, co2:200, light:0, watp0\n"
     ]
    }
   ],
   "source": [
    "env.render()"
   ]
  },
  {
   "cell_type": "code",
   "execution_count": 44,
   "metadata": {
    "collapsed": false
   },
   "outputs": [
    {
     "data": {
      "text/plain": [
       "500"
      ]
     },
     "execution_count": 44,
     "metadata": {},
     "output_type": "execute_result"
    }
   ],
   "source": [
    "env.n_state #number of row in Q table"
   ]
  },
  {
   "cell_type": "code",
   "execution_count": 45,
   "metadata": {
    "collapsed": false
   },
   "outputs": [
    {
     "data": {
      "text/plain": [
       "16"
      ]
     },
     "execution_count": 45,
     "metadata": {},
     "output_type": "execute_result"
    }
   ],
   "source": [
    "env.n_action #number of column in Q table"
   ]
  },
  {
   "cell_type": "code",
   "execution_count": 55,
   "metadata": {
    "collapsed": false
   },
   "outputs": [
    {
     "name": "stdout",
     "output_type": "stream",
     "text": [
      "(200, -0.1, 1, 0)\n",
      "step:10 temp:15, humi:30, co2:200, light:0, watp0\n",
      "None\n"
     ]
    }
   ],
   "source": [
    "#(comp,mist,light,watp)\n",
    "code=(1,0,0,0)\n",
    "print env.step(env.code2int( code ))\n",
    "print env.render()"
   ]
  },
  {
   "cell_type": "code",
   "execution_count": null,
   "metadata": {
    "collapsed": true
   },
   "outputs": [],
   "source": []
  }
 ],
 "metadata": {
  "anaconda-cloud": {},
  "kernelspec": {
   "display_name": "Python [default]",
   "language": "python",
   "name": "python3"
  },
  "language_info": {
   "codemirror_mode": {
    "name": "ipython",
    "version": 3
   },
   "file_extension": ".py",
   "mimetype": "text/x-python",
   "name": "python",
   "nbconvert_exporter": "python",
   "pygments_lexer": "ipython3",
   "version": "3.5.2"
  }
 },
 "nbformat": 4,
 "nbformat_minor": 2
}
