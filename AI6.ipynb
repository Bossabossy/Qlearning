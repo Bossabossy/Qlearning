{
 "cells": [
  {
   "cell_type": "code",
   "execution_count": 7,
   "metadata": {
    "collapsed": false
   },
   "outputs": [],
   "source": [
    "%matplotlib inline\n",
    "from matplotlib import pyplot as plt\n",
    "import numpy as np\n",
    "import random\n",
    "np.set_printoptions(threshold=np.nan)\n",
    "from Strawry.env import Env \n",
    "env = Env()"
   ]
  },
  {
   "cell_type": "code",
   "execution_count": 8,
   "metadata": {
    "collapsed": false
   },
   "outputs": [
    {
     "data": {
      "text/plain": [
       "440"
      ]
     },
     "execution_count": 8,
     "metadata": {},
     "output_type": "execute_result"
    }
   ],
   "source": [
    "env.set_target(temp=12,humi=60,co2=350,light=0,watp=0)\n",
    "\n"
   ]
  },
  {
   "cell_type": "code",
   "execution_count": null,
   "metadata": {
    "collapsed": false,
    "scrolled": true
   },
   "outputs": [],
   "source": [
    "Q= np.zeros((env.n_state, env.n_action))\n",
    "y = 0.99\n",
    "lr = 0.25\n",
    "\n",
    "num_episodes = 2000\n",
    "\n",
    "# list thats going to be used in the future\n",
    "memo = []\n",
    "rList = []\n",
    "\n",
    "alpha=np.log(0.1)/num_episodes      # decay learning rate\n",
    "for i in range(num_episodes):\n",
    "    lr= np.exp(alpha*i)  #decay learning rate\n",
    "    s = env.reset( temp=np.random.randint(low=10,high=21, size=1),\n",
    "                                          humi=np.random.randint(low=10,high=100, size=1),\n",
    "                                          co2=350,\n",
    "                                          light=np.random.randint(low=0,high=1, size=1),\n",
    "                                          watp=np.random.randint(low=0,high=1, size=1)\n",
    "                                            )\n",
    "    rAll = 0\n",
    "    done=False\n",
    "  \n",
    "    while done==False:               #random action to get next state and action\n",
    "        if np.random.rand() < lr*0.01:\n",
    "            a = np.random.randint(env.n_action)\n",
    "        else:\n",
    "            a = np.argmax(Q[s,:] )\n",
    "        s1,reward,done,_ = env.step(a)\n",
    "        \n",
    "        if done:\n",
    "            r = 1 if reward > 0.0 else -0.1\n",
    "        else:\n",
    "            r =-0.00001\n",
    "        #Update Q-Table with new knowledge\n",
    "        Q[s,a] = Q[s,a] +  lr*(r + y*np.max(Q[s1,:]) - Q[s,a])\n",
    "\n",
    "        rAll += reward\n",
    "        s = s1\n",
    "        if done == True:\n",
    "            break\n",
    "    if np.random.choice([True, False], p=[0.6, 0.4]) and len(memo) > 0:\n",
    "        idx = np.random.choice(len(memo))\n",
    "        pQ = memo[idx]\n",
    "        Q = 0.1*pQ + 0.9*Q\n",
    "    \n",
    "    \n",
    "    rList.append(rAll)\n",
    "    memo.append(Q)\n",
    "    \n",
    "\n",
    "    \n",
    "print (\"Score over time: \" +  str(sum(rList[-100:])/100.0))\n",
    "plt.plot(np.convolve(np.ones(100),rList,\"valid\"))\n",
    "\n"
   ]
  },
  {
   "cell_type": "code",
   "execution_count": null,
   "metadata": {
    "collapsed": false,
    "scrolled": true
   },
   "outputs": [],
   "source": [
    "print(memo[0].shape)"
   ]
  },
  {
   "cell_type": "code",
   "execution_count": null,
   "metadata": {
    "collapsed": false
   },
   "outputs": [],
   "source": [
    "np.exp(1, 2)"
   ]
  },
  {
   "cell_type": "code",
   "execution_count": null,
   "metadata": {
    "collapsed": false,
    "scrolled": true
   },
   "outputs": [],
   "source": [
    "print(Q)"
   ]
  },
  {
   "cell_type": "code",
   "execution_count": null,
   "metadata": {
    "collapsed": false
   },
   "outputs": [],
   "source": [
    "print(rAll)"
   ]
  },
  {
   "cell_type": "code",
   "execution_count": null,
   "metadata": {
    "collapsed": true
   },
   "outputs": [],
   "source": []
  }
 ],
 "metadata": {
  "anaconda-cloud": {},
  "kernelspec": {
   "display_name": "Python [default]",
   "language": "python",
   "name": "python3"
  },
  "language_info": {
   "codemirror_mode": {
    "name": "ipython",
    "version": 3
   },
   "file_extension": ".py",
   "mimetype": "text/x-python",
   "name": "python",
   "nbconvert_exporter": "python",
   "pygments_lexer": "ipython3",
   "version": "3.5.2"
  }
 },
 "nbformat": 4,
 "nbformat_minor": 2
}
