{
 "cells": [
  {
   "cell_type": "code",
   "execution_count": null,
   "metadata": {
    "collapsed": true
   },
   "outputs": [],
   "source": [
    "%matplotlib inline\n",
    "from matplotlib import pyplot as plt\n",
    "import numpy as np\n",
    "\n",
    "from Strawry.env import Env\n",
    "env = Env()"
   ]
  },
  {
   "cell_type": "code",
   "execution_count": null,
   "metadata": {},
   "outputs": [],
   "source": [
    "env.set_target(temp=10,humi=80,co2=350,light=0,watp=0)"
   ]
  },
  {
   "cell_type": "code",
   "execution_count": null,
   "metadata": {
    "collapsed": true
   },
   "outputs": [],
   "source": [
    "#Q[s,a] = Q[s,a] +  lr*(r + y*np.max(Q[s1,:]) - Q[s,a])\n",
    "Q= np.zeros((env.n_state, env.n_action))\n",
    "y = 0.99                           # keeping old data rate\n",
    "lr = 0.01                          # 1 - learning rate = loss rate\n",
    "\n",
    "num_episodes=2000\n",
    "rList = []\n",
    "alpha=np.log(0.1)/num_episodes     #decay learning rate algorithm\n",
    "for i in range(num_episodes):\n",
    "    lr= np.exp(alpha*i)            #decay learning rate algorithm\n",
    "    s = env.reset()\n",
    "    rAll = 0\n",
    "    done = False\n",
    "    while done == False:\n",
    "        if np.random.rand() < lr*0.01:\n",
    "            a = np.random.randint(env.n_action)\n",
    "    else:\n",
    "        a = np.argmax(Q[s,:])\n",
    "    s1,reward,done,_ = env.step(a)\n",
    "    \n",
    "    if done:\n",
    "        r = 1 if reward > 0.0 else -0.1\n",
    "    else:\n",
    "        r=0\n",
    "        \n",
    "    Q[s,a] = Q[s,a] +  lr*(r + y*np.max(Q[s1,:]) - Q[s,a])\n",
    "    rAll += reward \n",
    "    s=s1\n",
    "    if done == True:\n",
    "        break\n",
    "    rList.append(rAll)\n",
    "print (\"Score over time: \" + str(sum(rlist[-100:])/100.0))\n",
    "plt.plot(mp.convolve(np.ones(100),rlist,\"valid\"))"
   ]
  },
  {
   "cell_type": "code",
   "execution_count": null,
   "metadata": {
    "collapsed": true
   },
   "outputs": [],
   "source": [
    "print(s)"
   ]
  },
  {
   "cell_type": "code",
   "execution_count": null,
   "metadata": {
    "collapsed": true
   },
   "outputs": [],
   "source": []
  }
 ],
 "metadata": {
  "kernelspec": {
   "display_name": "Python 3",
   "language": "python",
   "name": "python3"
  },
  "language_info": {
   "codemirror_mode": {
    "name": "ipython",
    "version": 3
   },
   "file_extension": ".py",
   "mimetype": "text/x-python",
   "name": "python",
   "nbconvert_exporter": "python",
   "pygments_lexer": "ipython3",
   "version": "3.6.1"
  }
 },
 "nbformat": 4,
 "nbformat_minor": 2
}
